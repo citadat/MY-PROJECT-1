{
 "cells": [
  {
   "cell_type": "code",
   "execution_count": 1,
   "id": "4bc9a8f4-a915-4ba6-8cab-fcca68ba90a5",
   "metadata": {},
   "outputs": [
    {
     "name": "stdout",
     "output_type": "stream",
     "text": [
      "Name: Olusola Adeyemo\n",
      "Policy Number: P12345\n",
      "Product: Life Insurance\n",
      "Status: Active\n",
      "\n",
      "\n",
      "Name: Lukman Raphael\n",
      "Policy Number: P67890\n",
      "Product: Auto Insurance\n",
      "Status: Active\n",
      "\n",
      "\n",
      "Suspending policy for Olusola Adeyemo\n",
      "Name: Olusola Adeyemo\n",
      "Policy Number: P12345\n",
      "Product: Life Insurance\n",
      "Status: Suspended\n",
      "\n",
      "\n",
      "Lukman Raphael's policy is already active.\n",
      "Name: Lukman Raphael\n",
      "Policy Number: P67890\n",
      "Product: Auto Insurance\n",
      "Status: Active\n",
      "\n",
      "\n"
     ]
    }
   ],
   "source": [
    "class PolicyHolder:\n",
    "    def __init__(self, name, policy_number, product):\n",
    "        self.name = name\n",
    "        self.policy_number = policy_number\n",
    "        self.product = product\n",
    "        self.status = \"Active\"\n",
    "\n",
    "    def display_account_details(self):\n",
    "        print(f\"Name: {self.name}\")\n",
    "        print(f\"Policy Number: {self.policy_number}\")\n",
    "        print(f\"Product: {self.product}\")\n",
    "        print(f\"Status: {self.status}\")\n",
    "        print(\"\\n\")\n",
    "\n",
    "    def suspend_policy(self):\n",
    "        if self.status == \"Active\":\n",
    "            print(f\"Suspending policy for {self.name}\")\n",
    "            self.status = \"Suspended\"\n",
    "        else:\n",
    "            print(f\"{self.name}'s policy is already suspended.\")\n",
    "\n",
    "    def reactivate_policy(self):\n",
    "        if self.status == \"Suspended\":\n",
    "            print(f\"Reactivating policy for {self.name}\")\n",
    "            self.status = \"Active\"\n",
    "        else:\n",
    "            print(f\"{self.name}'s policy is already active.\")\n",
    "\n",
    "\n",
    "# Creating instances of PolicyHolder\n",
    "policyholder1 = PolicyHolder(\"Olusola Adeyemo\", \"P12345\", \"Life Insurance\")\n",
    "policyholder2 = PolicyHolder(\"Lukman Raphael\", \"P67890\", \"Auto Insurance\")\n",
    "\n",
    "# Displaying initial account details\n",
    "policyholder1.display_account_details()\n",
    "policyholder2.display_account_details()\n",
    "\n",
    "# Suspending and reactivating policies\n",
    "policyholder1.suspend_policy()\n",
    "policyholder1.display_account_details()\n",
    "\n",
    "policyholder2.reactivate_policy()\n",
    "policyholder2.display_account_details()\n"
   ]
  },
  {
   "cell_type": "code",
   "execution_count": null,
   "id": "c798edbf-e49b-459a-b3eb-a9cc417803bd",
   "metadata": {},
   "outputs": [],
   "source": []
  }
 ],
 "metadata": {
  "kernelspec": {
   "display_name": "anaconda-panel-2023.05-py310",
   "language": "python",
   "name": "conda-env-anaconda-panel-2023.05-py310-py"
  },
  "language_info": {
   "codemirror_mode": {
    "name": "ipython",
    "version": 3
   },
   "file_extension": ".py",
   "mimetype": "text/x-python",
   "name": "python",
   "nbconvert_exporter": "python",
   "pygments_lexer": "ipython3",
   "version": "3.11.5"
  }
 },
 "nbformat": 4,
 "nbformat_minor": 5
}
